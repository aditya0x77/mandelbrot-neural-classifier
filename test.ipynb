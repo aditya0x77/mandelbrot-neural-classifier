{
 "cells": [
  {
   "metadata": {
    "ExecuteTime": {
     "end_time": "2025-10-16T17:48:21.745588Z",
     "start_time": "2025-10-16T17:48:21.742311Z"
    }
   },
   "cell_type": "code",
   "source": [
    "import pandas as pd\n",
    "from tensorflow.keras.models import Sequential\n",
    "from tensorflow.keras.layers import  Dense, Input\n",
    "from tensorflow.keras.callbacks import Callback\n",
    "import matplotlib.pyplot as plt\n",
    "import numpy as np\n",
    "save_dir = \"C://Users//adity//OneDrive//Desktop//Github Projects//Practice//images\"\n"
   ],
   "id": "8f922566e3db9842",
   "outputs": [],
   "execution_count": 55
  },
  {
   "metadata": {
    "ExecuteTime": {
     "end_time": "2025-10-16T17:48:22.172727Z",
     "start_time": "2025-10-16T17:48:21.799561Z"
    }
   },
   "cell_type": "code",
   "source": [
    "data = pd.read_csv(\"dataset.csv\")\n",
    "data"
   ],
   "id": "89e4aa115b0033b8",
   "outputs": [
    {
     "data": {
      "text/plain": [
       "          x         y  esc\n",
       "0      -2.5 -1.500000  0.0\n",
       "1      -2.5 -1.496997  0.0\n",
       "2      -2.5 -1.493994  0.0\n",
       "3      -2.5 -1.490991  0.0\n",
       "4      -2.5 -1.487988  0.0\n",
       "...     ...       ...  ...\n",
       "999995  1.0  1.487988  1.0\n",
       "999996  1.0  1.490991  1.0\n",
       "999997  1.0  1.493994  1.0\n",
       "999998  1.0  1.496997  1.0\n",
       "999999  1.0  1.500000  1.0\n",
       "\n",
       "[1000000 rows x 3 columns]"
      ],
      "text/html": [
       "<div>\n",
       "<style scoped>\n",
       "    .dataframe tbody tr th:only-of-type {\n",
       "        vertical-align: middle;\n",
       "    }\n",
       "\n",
       "    .dataframe tbody tr th {\n",
       "        vertical-align: top;\n",
       "    }\n",
       "\n",
       "    .dataframe thead th {\n",
       "        text-align: right;\n",
       "    }\n",
       "</style>\n",
       "<table border=\"1\" class=\"dataframe\">\n",
       "  <thead>\n",
       "    <tr style=\"text-align: right;\">\n",
       "      <th></th>\n",
       "      <th>x</th>\n",
       "      <th>y</th>\n",
       "      <th>esc</th>\n",
       "    </tr>\n",
       "  </thead>\n",
       "  <tbody>\n",
       "    <tr>\n",
       "      <th>0</th>\n",
       "      <td>-2.5</td>\n",
       "      <td>-1.500000</td>\n",
       "      <td>0.0</td>\n",
       "    </tr>\n",
       "    <tr>\n",
       "      <th>1</th>\n",
       "      <td>-2.5</td>\n",
       "      <td>-1.496997</td>\n",
       "      <td>0.0</td>\n",
       "    </tr>\n",
       "    <tr>\n",
       "      <th>2</th>\n",
       "      <td>-2.5</td>\n",
       "      <td>-1.493994</td>\n",
       "      <td>0.0</td>\n",
       "    </tr>\n",
       "    <tr>\n",
       "      <th>3</th>\n",
       "      <td>-2.5</td>\n",
       "      <td>-1.490991</td>\n",
       "      <td>0.0</td>\n",
       "    </tr>\n",
       "    <tr>\n",
       "      <th>4</th>\n",
       "      <td>-2.5</td>\n",
       "      <td>-1.487988</td>\n",
       "      <td>0.0</td>\n",
       "    </tr>\n",
       "    <tr>\n",
       "      <th>...</th>\n",
       "      <td>...</td>\n",
       "      <td>...</td>\n",
       "      <td>...</td>\n",
       "    </tr>\n",
       "    <tr>\n",
       "      <th>999995</th>\n",
       "      <td>1.0</td>\n",
       "      <td>1.487988</td>\n",
       "      <td>1.0</td>\n",
       "    </tr>\n",
       "    <tr>\n",
       "      <th>999996</th>\n",
       "      <td>1.0</td>\n",
       "      <td>1.490991</td>\n",
       "      <td>1.0</td>\n",
       "    </tr>\n",
       "    <tr>\n",
       "      <th>999997</th>\n",
       "      <td>1.0</td>\n",
       "      <td>1.493994</td>\n",
       "      <td>1.0</td>\n",
       "    </tr>\n",
       "    <tr>\n",
       "      <th>999998</th>\n",
       "      <td>1.0</td>\n",
       "      <td>1.496997</td>\n",
       "      <td>1.0</td>\n",
       "    </tr>\n",
       "    <tr>\n",
       "      <th>999999</th>\n",
       "      <td>1.0</td>\n",
       "      <td>1.500000</td>\n",
       "      <td>1.0</td>\n",
       "    </tr>\n",
       "  </tbody>\n",
       "</table>\n",
       "<p>1000000 rows × 3 columns</p>\n",
       "</div>"
      ]
     },
     "execution_count": 56,
     "metadata": {},
     "output_type": "execute_result"
    }
   ],
   "execution_count": 56
  },
  {
   "metadata": {
    "ExecuteTime": {
     "end_time": "2025-10-16T17:48:22.242160Z",
     "start_time": "2025-10-16T17:48:22.232857Z"
    }
   },
   "cell_type": "code",
   "source": [
    "X = data.drop(columns=[\"esc\"], axis=1)\n",
    "X"
   ],
   "id": "2d72d73374e3b3de",
   "outputs": [
    {
     "data": {
      "text/plain": [
       "          x         y\n",
       "0      -2.5 -1.500000\n",
       "1      -2.5 -1.496997\n",
       "2      -2.5 -1.493994\n",
       "3      -2.5 -1.490991\n",
       "4      -2.5 -1.487988\n",
       "...     ...       ...\n",
       "999995  1.0  1.487988\n",
       "999996  1.0  1.490991\n",
       "999997  1.0  1.493994\n",
       "999998  1.0  1.496997\n",
       "999999  1.0  1.500000\n",
       "\n",
       "[1000000 rows x 2 columns]"
      ],
      "text/html": [
       "<div>\n",
       "<style scoped>\n",
       "    .dataframe tbody tr th:only-of-type {\n",
       "        vertical-align: middle;\n",
       "    }\n",
       "\n",
       "    .dataframe tbody tr th {\n",
       "        vertical-align: top;\n",
       "    }\n",
       "\n",
       "    .dataframe thead th {\n",
       "        text-align: right;\n",
       "    }\n",
       "</style>\n",
       "<table border=\"1\" class=\"dataframe\">\n",
       "  <thead>\n",
       "    <tr style=\"text-align: right;\">\n",
       "      <th></th>\n",
       "      <th>x</th>\n",
       "      <th>y</th>\n",
       "    </tr>\n",
       "  </thead>\n",
       "  <tbody>\n",
       "    <tr>\n",
       "      <th>0</th>\n",
       "      <td>-2.5</td>\n",
       "      <td>-1.500000</td>\n",
       "    </tr>\n",
       "    <tr>\n",
       "      <th>1</th>\n",
       "      <td>-2.5</td>\n",
       "      <td>-1.496997</td>\n",
       "    </tr>\n",
       "    <tr>\n",
       "      <th>2</th>\n",
       "      <td>-2.5</td>\n",
       "      <td>-1.493994</td>\n",
       "    </tr>\n",
       "    <tr>\n",
       "      <th>3</th>\n",
       "      <td>-2.5</td>\n",
       "      <td>-1.490991</td>\n",
       "    </tr>\n",
       "    <tr>\n",
       "      <th>4</th>\n",
       "      <td>-2.5</td>\n",
       "      <td>-1.487988</td>\n",
       "    </tr>\n",
       "    <tr>\n",
       "      <th>...</th>\n",
       "      <td>...</td>\n",
       "      <td>...</td>\n",
       "    </tr>\n",
       "    <tr>\n",
       "      <th>999995</th>\n",
       "      <td>1.0</td>\n",
       "      <td>1.487988</td>\n",
       "    </tr>\n",
       "    <tr>\n",
       "      <th>999996</th>\n",
       "      <td>1.0</td>\n",
       "      <td>1.490991</td>\n",
       "    </tr>\n",
       "    <tr>\n",
       "      <th>999997</th>\n",
       "      <td>1.0</td>\n",
       "      <td>1.493994</td>\n",
       "    </tr>\n",
       "    <tr>\n",
       "      <th>999998</th>\n",
       "      <td>1.0</td>\n",
       "      <td>1.496997</td>\n",
       "    </tr>\n",
       "    <tr>\n",
       "      <th>999999</th>\n",
       "      <td>1.0</td>\n",
       "      <td>1.500000</td>\n",
       "    </tr>\n",
       "  </tbody>\n",
       "</table>\n",
       "<p>1000000 rows × 2 columns</p>\n",
       "</div>"
      ]
     },
     "execution_count": 57,
     "metadata": {},
     "output_type": "execute_result"
    }
   ],
   "execution_count": 57
  },
  {
   "metadata": {
    "ExecuteTime": {
     "end_time": "2025-10-16T17:48:22.481238Z",
     "start_time": "2025-10-16T17:48:22.473013Z"
    }
   },
   "cell_type": "code",
   "source": [
    "data[\"label\"] = (data[\"esc\"] == 1000).astype(int)\n",
    "Y = data[\"label\"]"
   ],
   "id": "efe1cb6ee2f134bb",
   "outputs": [],
   "execution_count": 58
  },
  {
   "metadata": {
    "ExecuteTime": {
     "end_time": "2025-10-16T17:48:22.646128Z",
     "start_time": "2025-10-16T17:48:22.519391Z"
    }
   },
   "cell_type": "code",
   "source": [
    "model = Sequential([\n",
    "    Input(shape=(2,)),\n",
    "    Dense(200, activation=\"relu\"),\n",
    "    Dense(200, activation=\"relu\"),\n",
    "    Dense(200, activation=\"relu\"),\n",
    "    Dense(200, activation=\"relu\"),\n",
    "    Dense(200, activation=\"relu\"),\n",
    "    Dense(200, activation=\"relu\"),\n",
    "    Dense(200, activation=\"relu\"),\n",
    "    Dense(200, activation=\"relu\"),\n",
    "    Dense(200, activation=\"relu\"),\n",
    "    Dense(200, activation=\"relu\"),\n",
    "    Dense(200, activation=\"relu\"),\n",
    "    Dense(200, activation=\"relu\"),\n",
    "    Dense(200, activation=\"relu\"),\n",
    "    Dense(200, activation=\"relu\"),\n",
    "    Dense(200, activation=\"relu\"),\n",
    "    Dense(200, activation=\"relu\"),\n",
    "    Dense(200, activation=\"relu\"),\n",
    "    Dense(200, activation=\"relu\"),\n",
    "    Dense(200, activation=\"relu\"),\n",
    "    Dense(200, activation=\"relu\"),\n",
    "    Dense(200, activation=\"relu\"),\n",
    "    Dense(200, activation=\"relu\"),\n",
    "    Dense(1, activation=\"sigmoid\")\n",
    "])\n"
   ],
   "id": "53f4d1aab85223dc",
   "outputs": [],
   "execution_count": 59
  },
  {
   "metadata": {
    "ExecuteTime": {
     "end_time": "2025-10-16T17:48:22.656647Z",
     "start_time": "2025-10-16T17:48:22.650443Z"
    }
   },
   "cell_type": "code",
   "source": "model.compile(optimizer='adam', loss='binary_crossentropy')",
   "id": "a181940fade6301",
   "outputs": [],
   "execution_count": 60
  },
  {
   "metadata": {
    "ExecuteTime": {
     "end_time": "2025-10-16T17:48:22.703346Z",
     "start_time": "2025-10-16T17:48:22.700909Z"
    }
   },
   "cell_type": "code",
   "source": [
    "import os\n",
    "save_dir = r\"C:/Users/adity/OneDrive/Desktop/Projects/Practice/images\"\n",
    "\n"
   ],
   "id": "93f43672a045ca16",
   "outputs": [],
   "execution_count": 61
  },
  {
   "metadata": {
    "ExecuteTime": {
     "end_time": "2025-10-16T17:48:22.756313Z",
     "start_time": "2025-10-16T17:48:22.751133Z"
    }
   },
   "cell_type": "code",
   "source": [
    "class MandelbrotVisualizer(Callback):\n",
    "    def on_epoch_end(self, epoch, logs=None):\n",
    "        x_vals = np.linspace(-2.5, 1, 300)\n",
    "        y_vals = np.linspace(-1.5, 1.5, 300)\n",
    "        X_grid, Y_grid = np.meshgrid(x_vals, y_vals)\n",
    "        grid_points = np.c_[X_grid.ravel(), Y_grid.ravel()]\n",
    "\n",
    "        preds = self.model.predict(grid_points, verbose=0)\n",
    "        preds = preds.reshape(X_grid.shape)\n",
    "\n",
    "        plt.figure(figsize=(6, 6), facecolor='black')\n",
    "        ax = plt.gca()\n",
    "        ax.set_facecolor('black')\n",
    "        ax.tick_params(left=False, bottom=False, labelleft=False, labelbottom=False)\n",
    "\n",
    "        plt.imshow(preds, extent=(-2.5, 1, -1.5, 1.5),\n",
    "                   cmap='plasma', origin='lower', interpolation='bilinear')\n",
    "\n",
    "        plt.title(f\"Epoch {epoch+1}\", color='#bb86fc', fontsize=12, pad=10)\n",
    "\n",
    "        filename = f\"images2/{epoch}.png\"\n",
    "        plt.savefig(filename, facecolor='black')\n",
    "        plt.close()"
   ],
   "id": "693f89fa4feb5f0c",
   "outputs": [],
   "execution_count": 62
  },
  {
   "metadata": {
    "jupyter": {
     "is_executing": true
    },
    "ExecuteTime": {
     "start_time": "2025-10-16T17:48:22.805975Z"
    }
   },
   "cell_type": "code",
   "source": "model.fit(X, Y, epochs=200, batch_size=2048, callbacks=[MandelbrotVisualizer()])",
   "id": "8ef257fc0277abbd",
   "outputs": [
    {
     "name": "stdout",
     "output_type": "stream",
     "text": [
      "Epoch 1/200\n"
     ]
    }
   ],
   "execution_count": null
  }
 ],
 "metadata": {
  "kernelspec": {
   "display_name": "Python 3",
   "language": "python",
   "name": "python3"
  },
  "language_info": {
   "codemirror_mode": {
    "name": "ipython",
    "version": 2
   },
   "file_extension": ".py",
   "mimetype": "text/x-python",
   "name": "python",
   "nbconvert_exporter": "python",
   "pygments_lexer": "ipython2",
   "version": "2.7.6"
  }
 },
 "nbformat": 4,
 "nbformat_minor": 5
}
